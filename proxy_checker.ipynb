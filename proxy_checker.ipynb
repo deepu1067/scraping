{
 "cells": [
  {
   "cell_type": "code",
   "execution_count": 1,
   "metadata": {},
   "outputs": [],
   "source": [
    "import requests\n",
    "import threading\n",
    "import queue\n",
    "import pandas as pd"
   ]
  },
  {
   "cell_type": "code",
   "execution_count": 2,
   "metadata": {},
   "outputs": [],
   "source": [
    "q = queue.Queue()\n",
    "\n",
    "with open(\"proxy.txt\", \"r\") as file:\n",
    "    proxies = file.read().split(\"\\n\")\n",
    "    for p in proxies:\n",
    "        q.put(p)"
   ]
  },
  {
   "cell_type": "code",
   "execution_count": 3,
   "metadata": {},
   "outputs": [],
   "source": [
    "# q = queue.Queue()\n",
    "\n",
    "# df = pd.read_csv(\"Free_Proxy_List.csv\")\n",
    "# df = df.to_dict(\"records\")\n",
    "# for p in df:\n",
    "#     prx = f\"{p['ip']}:{p['port']}\"\n",
    "#     q.put(prx)"
   ]
  },
  {
   "cell_type": "code",
   "execution_count": 4,
   "metadata": {},
   "outputs": [],
   "source": [
    "valid_proxy = []"
   ]
  },
  {
   "cell_type": "code",
   "execution_count": 5,
   "metadata": {},
   "outputs": [],
   "source": [
    "def check_proxy():\n",
    "    global q\n",
    "    while not q.empty():\n",
    "        proxy = q.get()\n",
    "        try:\n",
    "            response = requests.get(\n",
    "                \"https://google.com\",\n",
    "                proxies={\"https\": f\"http://{proxy}\"},\n",
    "            )\n",
    "        except:\n",
    "            continue\n",
    "\n",
    "        if response.status_code == 200:\n",
    "            valid_proxy.append(proxy)\n",
    "            print(proxy)"
   ]
  },
  {
   "cell_type": "code",
   "execution_count": 6,
   "metadata": {},
   "outputs": [
    {
     "name": "stdout",
     "output_type": "stream",
     "text": [
      "38.183.152.250:999\n",
      "45.22.209.157:8888\n",
      "45.178.133.77:999\n",
      "64.225.8.118:10016\n",
      "66.98.24.237:8080\n",
      "72.10.164.178:9949\n",
      "93.125.3.22:8080\n"
     ]
    }
   ],
   "source": [
    "for _ in range(20):\n",
    "    threading.Thread(target=check_proxy).start()"
   ]
  },
  {
   "cell_type": "code",
   "execution_count": 15,
   "metadata": {},
   "outputs": [
    {
     "data": {
      "text/plain": [
       "['38.183.152.250:999',\n",
       " '45.22.209.157:8888',\n",
       " '45.178.133.77:999',\n",
       " '64.225.8.118:10016',\n",
       " '66.98.24.237:8080']"
      ]
     },
     "execution_count": 15,
     "metadata": {},
     "output_type": "execute_result"
    }
   ],
   "source": [
    "valid_proxy"
   ]
  },
  {
   "cell_type": "code",
   "execution_count": null,
   "metadata": {},
   "outputs": [],
   "source": []
  }
 ],
 "metadata": {
  "kernelspec": {
   "display_name": "env",
   "language": "python",
   "name": "python3"
  },
  "language_info": {
   "codemirror_mode": {
    "name": "ipython",
    "version": 3
   },
   "file_extension": ".py",
   "mimetype": "text/x-python",
   "name": "python",
   "nbconvert_exporter": "python",
   "pygments_lexer": "ipython3",
   "version": "3.10.2"
  }
 },
 "nbformat": 4,
 "nbformat_minor": 2
}
