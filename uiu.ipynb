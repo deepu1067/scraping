{
 "cells": [
  {
   "cell_type": "code",
   "execution_count": 7,
   "metadata": {},
   "outputs": [],
   "source": [
    "import requests\n",
    "from bs4 import BeautifulSoup\n",
    "from pymongo import MongoClient"
   ]
  },
  {
   "cell_type": "code",
   "execution_count": 8,
   "metadata": {},
   "outputs": [],
   "source": [
    "url = \"https://www.uiu.ac.bd/notice/\"\n",
    "mongo_string = \"mongodb://localhost:27017/\""
   ]
  },
  {
   "cell_type": "code",
   "execution_count": 5,
   "metadata": {},
   "outputs": [],
   "source": [
    "response = requests.get(url)\n",
    "soup = BeautifulSoup(response.text, \"html.parser\")"
   ]
  },
  {
   "cell_type": "code",
   "execution_count": 6,
   "metadata": {},
   "outputs": [
    {
     "data": {
      "text/plain": [
       "12"
      ]
     },
     "execution_count": 6,
     "metadata": {},
     "output_type": "execute_result"
    }
   ],
   "source": [
    "notice_card = soup.find_all(\"div\", class_=\"notice\")\n",
    "len(notice_card)"
   ]
  },
  {
   "cell_type": "code",
   "execution_count": 12,
   "metadata": {},
   "outputs": [],
   "source": [
    "client = MongoClient(mongo_string, 27017)\n",
    "db = client[\"uiu_world\"]\n",
    "db_collection = db[\"notice\"]"
   ]
  },
  {
   "cell_type": "code",
   "execution_count": 15,
   "metadata": {},
   "outputs": [
    {
     "data": {
      "text/plain": [
       "<div class=\"notice\">\n",
       "<div class=\"image\">\n",
       "<img alt=\"\" src=\"https://www.uiu.ac.bd/wp-content/uploads/2024/04/UIU-Eid-Greetings-Card_Central.jpg\"/>\n",
       "</div>\n",
       "<div class=\"details\">\n",
       "<!-- date -->\n",
       "<div class=\"date-container\">\n",
       "<!-- icon -->\n",
       "<span class=\"icon\">\n",
       "<img alt=\"\" src=\"https://www.uiu.ac.bd/wp-content/themes/uiu-main/img/calendar-days-regular.svg\"/>\n",
       "</span>\n",
       "<!-- date -->\n",
       "<span class=\"date\">\n",
       "\t\t\t\t\t\t\t\t\tApril 3, 2024\t\t\t\t\t\t\t\t</span>\n",
       "</div>\n",
       "<div class=\"title\">\n",
       "<a href=\"https://www.uiu.ac.bd/notice/holiday-notice-holy-shab-e-qadr-holy-eid-ul-fitr-bangla-nababarsha/\">\n",
       "\t\t\t\t\t\t\t\t\tHOLIDAY NOTICE : HOLY SHAB-E-QAD’R, HOLY EID-UL-FIT’R &amp; BANGLA NABABARSHA\t\t\t\t\t\t\t\t</a>\n",
       "</div>\n",
       "</div>\n",
       "</div>"
      ]
     },
     "execution_count": 15,
     "metadata": {},
     "output_type": "execute_result"
    }
   ],
   "source": [
    "notice_card[0]"
   ]
  },
  {
   "cell_type": "code",
   "execution_count": 27,
   "metadata": {},
   "outputs": [],
   "source": [
    "for notice in notice_card:\n",
    "    date = notice.find(\"span\", class_=\"date\").text.strip().split(\",\")[0]\n",
    "    title = notice.find(\"div\", class_=\"title\").text.strip().capitalize()\n",
    "    notice_url = notice.select(\".title > a\")[0][\"href\"].strip()\n",
    "\n",
    "    data = {\"date\": date, \"title\": title, \"url\": notice_url}\n",
    "\n",
    "    db_collection.insert_one(data)"
   ]
  },
  {
   "cell_type": "code",
   "execution_count": 45,
   "metadata": {},
   "outputs": [
    {
     "data": {
      "text/plain": [
       "['United International University will remain closed on March 26, 2024 (Tuesday) on the occasion of ‘INDEPENDENCE & NATIONAL DAY’.',\n",
       " 'Dr. Md. Zulfiqur RahmanRegistrar']"
      ]
     },
     "execution_count": 45,
     "metadata": {},
     "output_type": "execute_result"
    }
   ],
   "source": [
    "for notice in notice_card:\n",
    "    res_details = requests.get(notice_card[3].select(\".title > a\")[0][\"href\"].strip())\n",
    "    soup = BeautifulSoup(res_details.text, \"html.parser\")\n",
    "    data_list = soup.find(\"div\", class_=\"notice-details\").text.strip().split(\"\\n\")\n",
    "    data_list = [i for i in data_list if i != \"\"]\n",
    "    data_list"
   ]
  },
  {
   "cell_type": "code",
   "execution_count": 51,
   "metadata": {},
   "outputs": [],
   "source": [
    "for doc in db_collection.find():\n",
    "    res_details = requests.get(doc[\"url\"])\n",
    "    soup = BeautifulSoup(res_details.text, \"html.parser\")\n",
    "    data_list = soup.find(\"div\", class_=\"notice-details\").text.strip().split(\"\\n\")\n",
    "    data_list = [i for i in data_list if i != \"\"]\n",
    "\n",
    "    db_collection.update_one({\"_id\": doc[\"_id\"]}, {\"$set\": {\"details\": data_list}})"
   ]
  },
  {
   "cell_type": "code",
   "execution_count": null,
   "metadata": {},
   "outputs": [],
   "source": []
  }
 ],
 "metadata": {
  "kernelspec": {
   "display_name": "env",
   "language": "python",
   "name": "python3"
  },
  "language_info": {
   "codemirror_mode": {
    "name": "ipython",
    "version": 3
   },
   "file_extension": ".py",
   "mimetype": "text/x-python",
   "name": "python",
   "nbconvert_exporter": "python",
   "pygments_lexer": "ipython3",
   "version": "3.10.2"
  }
 },
 "nbformat": 4,
 "nbformat_minor": 2
}
