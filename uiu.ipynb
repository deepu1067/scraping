{
 "cells": [
  {
   "cell_type": "code",
   "execution_count": 5,
   "metadata": {},
   "outputs": [],
   "source": [
    "import requests\n",
    "from bs4 import BeautifulSoup\n",
    "from pymongo import MongoClient"
   ]
  },
  {
   "cell_type": "code",
   "execution_count": 2,
   "metadata": {},
   "outputs": [],
   "source": [
    "url = \"https://www.uiu.ac.bd/notice/\"\n",
    "mongo_string = \"mongodb://localhost:27017/\""
   ]
  },
  {
   "cell_type": "code",
   "execution_count": 3,
   "metadata": {},
   "outputs": [],
   "source": [
    "response = requests.get(url)\n",
    "soup = BeautifulSoup(response.text, \"html.parser\")"
   ]
  },
  {
   "cell_type": "code",
   "execution_count": 4,
   "metadata": {},
   "outputs": [
    {
     "data": {
      "text/plain": [
       "12"
      ]
     },
     "execution_count": 4,
     "metadata": {},
     "output_type": "execute_result"
    }
   ],
   "source": [
    "notice_card = soup.find_all(\"div\", class_=\"notice\")\n",
    "len(notice_card)"
   ]
  },
  {
   "cell_type": "code",
   "execution_count": 5,
   "metadata": {},
   "outputs": [],
   "source": [
    "client = MongoClient(mongo_string, 27017)\n",
    "db = client[\"uiu_world\"]\n",
    "db_collection = db[\"notice\"]"
   ]
  },
  {
   "cell_type": "code",
   "execution_count": 6,
   "metadata": {},
   "outputs": [
    {
     "data": {
      "text/plain": [
       "<div class=\"notice\">\n",
       "<div class=\"image\">\n",
       "<img alt=\"\" src=\"\"/>\n",
       "</div>\n",
       "<div class=\"details\">\n",
       "<!-- date -->\n",
       "<div class=\"date-container\">\n",
       "<!-- icon -->\n",
       "<span class=\"icon\">\n",
       "<img alt=\"\" src=\"https://www.uiu.ac.bd/wp-content/themes/uiu-main/img/calendar-days-regular.svg\"/>\n",
       "</span>\n",
       "<!-- date -->\n",
       "<span class=\"date\">\n",
       "\t\t\t\t\t\t\t\t\tApril 22, 2024\t\t\t\t\t\t\t\t</span>\n",
       "</div>\n",
       "<div class=\"title\">\n",
       "<a href=\"https://www.uiu.ac.bd/notice/notice-regarding-online-classes/\">\n",
       "\t\t\t\t\t\t\t\t\tNOTICE REGARDING ONLINE CLASSES\t\t\t\t\t\t\t\t</a>\n",
       "</div>\n",
       "</div>\n",
       "</div>"
      ]
     },
     "execution_count": 6,
     "metadata": {},
     "output_type": "execute_result"
    }
   ],
   "source": [
    "notice_card[0]"
   ]
  },
  {
   "cell_type": "code",
   "execution_count": 7,
   "metadata": {},
   "outputs": [],
   "source": [
    "for notice in notice_card:\n",
    "    date = notice.find(\"span\", class_=\"date\").text.strip().split(\",\")[0]\n",
    "    title = notice.find(\"div\", class_=\"title\").text.strip().capitalize()\n",
    "    notice_url = notice.select(\".title > a\")[0][\"href\"].strip()\n",
    "\n",
    "    data = {\"date\": date, \"title\": title, \"url\": notice_url}\n",
    "\n",
    "    # db_collection.insert_one(data)"
   ]
  },
  {
   "cell_type": "code",
   "execution_count": 19,
   "metadata": {},
   "outputs": [],
   "source": [
    "# for notice in notice_card:\n",
    "#     details_url = notice.select(\".title > a\")[0][\"href\"].strip()\n",
    "#     print(details_url)\n",
    "# response = requests.get(\n",
    "#     \"https://www.uiu.ac.bd/notice/schedule-to-collect-original-certificates-all-graduates-eligible-for-7th-convocation-2024/\"\n",
    "# )\n",
    "# soup = BeautifulSoup(response.text, \"html.parser\")\n",
    "# data_list = soup.find(\"div\", class_=\"notice-details\").find_all(\"p\")\n",
    "# for i in data_list:\n",
    "#     print(i.text.strip())"
   ]
  },
  {
   "cell_type": "code",
   "execution_count": 45,
   "metadata": {},
   "outputs": [
    {
     "data": {
      "text/plain": [
       "['United International University will remain closed on March 26, 2024 (Tuesday) on the occasion of ‘INDEPENDENCE & NATIONAL DAY’.',\n",
       " 'Dr. Md. Zulfiqur RahmanRegistrar']"
      ]
     },
     "execution_count": 45,
     "metadata": {},
     "output_type": "execute_result"
    }
   ],
   "source": [
    "for notice in notice_card:\n",
    "    res_details = requests.get(notice_card[3].select(\".title > a\")[0][\"href\"].strip())\n",
    "    soup = BeautifulSoup(res_details.text, \"html.parser\")\n",
    "    data_list = soup.find(\"div\", class_=\"notice-details\").text.strip().split(\"\\n\")\n",
    "    data_list = [i for i in data_list if i != \"\"]\n",
    "    data_list"
   ]
  },
  {
   "cell_type": "code",
   "execution_count": 51,
   "metadata": {},
   "outputs": [],
   "source": [
    "for doc in db_collection.find():\n",
    "    res_details = requests.get(doc[\"url\"])\n",
    "    soup = BeautifulSoup(res_details.text, \"html.parser\")\n",
    "    data_list = soup.find(\"div\", class_=\"notice-details\").text.strip().split(\"\\n\")\n",
    "    data_list = [i for i in data_list if i != \"\"]\n",
    "\n",
    "    db_collection.update_one({\"_id\": doc[\"_id\"]}, {\"$set\": {\"details\": data_list}})"
   ]
  },
  {
   "cell_type": "markdown",
   "metadata": {},
   "source": [
    "<h1>Researches<h1>"
   ]
  },
  {
   "cell_type": "code",
   "execution_count": 1,
   "metadata": {},
   "outputs": [],
   "source": [
    "from selenium.webdriver import Chrome\n",
    "from selenium.webdriver.common.by import By\n",
    "from selenium.webdriver.support.ui import WebDriverWait\n",
    "from selenium.webdriver.support import expected_conditions as EC\n",
    "from selenium.webdriver.common.keys import Keys\n",
    "from selenium.webdriver.chrome.options import Options\n",
    "import pickle"
   ]
  },
  {
   "cell_type": "code",
   "execution_count": 2,
   "metadata": {},
   "outputs": [],
   "source": [
    "url = \"https://www.uiu.ac.bd/research/journal-paper/\""
   ]
  },
  {
   "cell_type": "code",
   "execution_count": 9,
   "metadata": {},
   "outputs": [],
   "source": [
    "def scrape_paper(url, output_file_path):\n",
    "    options = Options()\n",
    "    options.add_argument(\"--headless\")\n",
    "\n",
    "    driver = Chrome(options=options)\n",
    "    driver.get(url)\n",
    "\n",
    "    # Wait until the specific element is visible\n",
    "    WebDriverWait(driver, 10).until(\n",
    "        EC.visibility_of_element_located(\n",
    "            (By.XPATH, '//*[@id=\"conference-paper\"]/div[1]')\n",
    "        )\n",
    "    )\n",
    "\n",
    "    response = driver.find_element(\n",
    "        By.XPATH, '//*[@id=\"conference-paper\"]'\n",
    "    ).get_attribute(\"outerHTML\")\n",
    "    driver.quit()\n",
    "\n",
    "    # Parse the HTML content using BeautifulSoup\n",
    "    soup = BeautifulSoup(response, \"html.parser\")\n",
    "    with open(f\"{output_file_path}.pkl\", \"wb\") as file:\n",
    "        pickle.dump(soup, file)"
   ]
  },
  {
   "cell_type": "code",
   "execution_count": 10,
   "metadata": {},
   "outputs": [],
   "source": [
    "scrape_paper(url, \"journal\")"
   ]
  },
  {
   "cell_type": "code",
   "execution_count": 12,
   "metadata": {},
   "outputs": [],
   "source": [
    "with open(\"journal.pkl\", \"rb\") as file:\n",
    "    soup = pickle.load(file)"
   ]
  },
  {
   "cell_type": "code",
   "execution_count": 56,
   "metadata": {},
   "outputs": [],
   "source": [
    "paper_list = []\n",
    "paper_details = soup.select(\"#conference-paper > div\")\n",
    "\n",
    "for paper in paper_details:\n",
    "    year = paper.select(\"span\")[0].text.strip()\n",
    "    paper_url = paper.select_one(\"a\").get(\"href\")\n",
    "    publication = (\n",
    "        paper.select_one(\".paper-event\").text.strip().split(\"Publication:\")[1].strip()\n",
    "    )\n",
    "    authors = [i.text.strip() for i in paper.select(\".paper-contributors span\")]\n",
    "    paper_tags = [i.text.strip() for i in paper.select(\".paper-tags > span\")]\n",
    "\n",
    "    paper_info = {\n",
    "        \"year\": year,\n",
    "        \"paper_url\": paper_url,\n",
    "        \"publication\": publication,\n",
    "        \"authors\": authors,\n",
    "        \"paper_tags\": paper_tags,\n",
    "    }\n",
    "\n",
    "    paper_list.append(paper_info)"
   ]
  },
  {
   "cell_type": "code",
   "execution_count": null,
   "metadata": {},
   "outputs": [],
   "source": []
  },
  {
   "cell_type": "code",
   "execution_count": null,
   "metadata": {},
   "outputs": [],
   "source": []
  },
  {
   "cell_type": "code",
   "execution_count": null,
   "metadata": {},
   "outputs": [],
   "source": []
  }
 ],
 "metadata": {
  "kernelspec": {
   "display_name": "env",
   "language": "python",
   "name": "python3"
  },
  "language_info": {
   "codemirror_mode": {
    "name": "ipython",
    "version": 3
   },
   "file_extension": ".py",
   "mimetype": "text/x-python",
   "name": "python",
   "nbconvert_exporter": "python",
   "pygments_lexer": "ipython3",
   "version": "3.10.2"
  }
 },
 "nbformat": 4,
 "nbformat_minor": 2
}
