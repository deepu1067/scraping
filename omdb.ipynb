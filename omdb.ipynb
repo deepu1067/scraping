{
 "cells": [
  {
   "cell_type": "code",
   "execution_count": 7,
   "metadata": {},
   "outputs": [],
   "source": [
    "import json\n",
    "import requests\n",
    "import os\n",
    "import pandas as pd"
   ]
  },
  {
   "cell_type": "code",
   "execution_count": 16,
   "metadata": {},
   "outputs": [],
   "source": [
    "file = open('../key.json', 'r')\n",
    "API_KEY = json.load(file)[0]['OMDB_API']"
   ]
  },
  {
   "cell_type": "code",
   "execution_count": 4,
   "metadata": {},
   "outputs": [],
   "source": [
    "df = pd.read_csv(\"movies.csv\")\n",
    "movies = df.to_dict(orient=\"records\")"
   ]
  },
  {
   "cell_type": "code",
   "execution_count": 18,
   "metadata": {},
   "outputs": [
    {
     "data": {
      "text/plain": [
       "{'Unnamed: 0': 0,\n",
       " 'date': 'Jan 4, 2013',\n",
       " 'title': 'Texas Chainsaw 3D',\n",
       " 'production budget': '$20,000,000',\n",
       " 'domestric budget': '$34,341,945',\n",
       " 'worldwide gross': '$47,666,013'}"
      ]
     },
     "execution_count": 18,
     "metadata": {},
     "output_type": "execute_result"
    }
   ],
   "source": [
    "movies[0]"
   ]
  },
  {
   "cell_type": "code",
   "execution_count": 49,
   "metadata": {},
   "outputs": [
    {
     "name": "stdout",
     "output_type": "stream",
     "text": [
      "server error 401\n"
     ]
    }
   ],
   "source": [
    "movies_info = []\n",
    "for movie in movies:\n",
    "    movie = movie['title'].replace(\" \", \"+\")\n",
    "    request_url = f\"http://www.omdbapi.com/?t={movie}&apikey={API_KEY}\"\n",
    "\n",
    "    response = requests.request(\"GET\", request_url)\n",
    "    if response.status_code != 200:\n",
    "        print(f\"server error {response.status_code}\")\n",
    "        break\n",
    "\n",
    "    is_available = (bool) (json.loads(response.text)['Response'])\n",
    "\n",
    "    if is_available and json.loads(response.text) not in movies_info:\n",
    "        data = json.loads(response.text)\n",
    "        movies_info.append(data)"
   ]
  },
  {
   "cell_type": "code",
   "execution_count": 57,
   "metadata": {},
   "outputs": [
    {
     "data": {
      "text/plain": [
       "dict_keys(['Title', 'Year', 'Rated', 'Released', 'Runtime', 'Genre', 'Director', 'Writer', 'Actors', 'Plot', 'Language', 'Country', 'Awards', 'Poster', 'Ratings', 'Metascore', 'imdbRating', 'imdbVotes', 'imdbID', 'Type', 'DVD', 'BoxOffice', 'Production', 'Website', 'Response'])"
      ]
     },
     "execution_count": 57,
     "metadata": {},
     "output_type": "execute_result"
    }
   ],
   "source": [
    "# movie = movies[20]['title'].replace(\" \", \"+\")\n",
    "# request_url = f\"http://www.omdbapi.com/?t={movie}&apikey={API_KEY}\"\n",
    "\n",
    "# response = requests.request(\"GET\", request_url)\n",
    "# # (json.loads(response.text), (bool) (json.loads(response.text)['Response']))\n",
    "# type(response.status_code)\n",
    "movies_info[2].keys()"
   ]
  },
  {
   "cell_type": "code",
   "execution_count": 54,
   "metadata": {},
   "outputs": [],
   "source": [
    "filter_movies = []\n",
    "for m in movies_info:\n",
    "    if m['Response'] == 'False':\n",
    "        continue\n",
    "    filter_movies.append(m)"
   ]
  },
  {
   "cell_type": "code",
   "execution_count": null,
   "metadata": {},
   "outputs": [],
   "source": [
    "df = pd.DataFrame(filter_movies)\n",
    "df.to_csv(\"movie_info.csv\")"
   ]
  }
 ],
 "metadata": {
  "kernelspec": {
   "display_name": "env",
   "language": "python",
   "name": "env"
  },
  "language_info": {
   "codemirror_mode": {
    "name": "ipython",
    "version": 3
   },
   "file_extension": ".py",
   "mimetype": "text/x-python",
   "name": "python",
   "nbconvert_exporter": "python",
   "pygments_lexer": "ipython3",
   "version": "3.10.12"
  }
 },
 "nbformat": 4,
 "nbformat_minor": 2
}
