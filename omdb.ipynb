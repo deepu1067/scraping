{
 "cells": [
  {
   "cell_type": "code",
   "execution_count": 1,
   "metadata": {},
   "outputs": [],
   "source": [
    "import json\n",
    "import requests\n",
    "import os\n",
    "import pandas as pd\n",
    "from urllib.parse import quote"
   ]
  },
  {
   "cell_type": "code",
   "execution_count": 2,
   "metadata": {},
   "outputs": [],
   "source": [
    "file = open('../key.json', 'r')\n",
    "API_KEY = json.load(file)[0]['OMDB_API']"
   ]
  },
  {
   "cell_type": "code",
   "execution_count": 63,
   "metadata": {},
   "outputs": [],
   "source": [
    "# movie_dict = pd.read_csv(\"movies.csv\").drop(\"Unnamed: 0\", axis=1)\n",
    "# movie_dict.to_csv(\"movies.csv\", index=False)"
   ]
  },
  {
   "cell_type": "code",
   "execution_count": 3,
   "metadata": {},
   "outputs": [],
   "source": [
    "movie_dict = pd.read_csv(\"movies.csv\").to_dict(orient=\"records\")\n",
    "movies = [i['title'].lower().replace(\"º\", \"°\").replace(\"’\", \"'\") for i in movie_dict] #movie list"
   ]
  },
  {
   "cell_type": "code",
   "execution_count": 4,
   "metadata": {},
   "outputs": [],
   "source": [
    "scrapped = pd.read_csv(\"new_merged_scrapped.csv\")\n",
    "scrapped = scrapped.drop_duplicates(subset='Title', keep='first')\n",
    "scrapped_dict = scrapped.to_dict(orient=\"records\")\n",
    "scrapped_movies = [i['Title'].lower() for i in scrapped_dict]"
   ]
  },
  {
   "cell_type": "code",
   "execution_count": 5,
   "metadata": {},
   "outputs": [],
   "source": [
    "# \"Alexander and the Terrible, Horrible, No Good, …\".replace(\" …\", \"\")\n",
    "# \"Alexander and the Terrible, Horrible, No Good, Very Bad Day\".find(\"Alexander and the Terrible, Horrible, No Good,\")\n",
    "\n",
    "# l = [\"done\", \"Alexander and the Terrible, Horrible, No Good, Very Bad Day\"]\n",
    "# l[1].endswith(\" …\")\n",
    "# scrapped = scrapped.drop(\"Unnamed: 0.1\", axis=1)\n",
    "# scrapped = scrapped.drop(\"Unnamed: 0\", axis=1)\n",
    "\n",
    "# scrapped = scrapped.drop(272)\n",
    "# scrapped = scrapped.drop(743)\n",
    "# scrapped = scrapped.drop(776)\n",
    "# scrapped.to_csv(\"movie_info.csv\", index=False)\n",
    "\n",
    "\n",
    "# \"no se aceptan devoluciones 2: el regreso de loreto peralta\".find(\"no se aceptan devoluciones\")\n",
    "# len(scrapped)\n",
    "# scrapped.to_csv('movie_info.csv', index=False)"
   ]
  },
  {
   "cell_type": "code",
   "execution_count": 6,
   "metadata": {},
   "outputs": [],
   "source": [
    "for index, i in enumerate(movies):\n",
    "    if i.endswith(\"…\"):\n",
    "        movies[index] = i.replace(\"…\", \"\").strip()\n",
    "        # print(i)"
   ]
  },
  {
   "cell_type": "code",
   "execution_count": 7,
   "metadata": {},
   "outputs": [],
   "source": [
    "movies = list(set(movies))\n",
    "scrapped_movies = list(set(scrapped_movies))"
   ]
  },
  {
   "cell_type": "code",
   "execution_count": 8,
   "metadata": {},
   "outputs": [],
   "source": [
    "leftover = []\n",
    "for movie in movies:\n",
    "    if movie not in scrapped_movies:\n",
    "        leftover.append(movie)"
   ]
  },
  {
   "cell_type": "code",
   "execution_count": 9,
   "metadata": {},
   "outputs": [],
   "source": [
    "df1 = pd.DataFrame({'movies': movies})\n",
    "df2 = pd.DataFrame({'leftover': leftover})\n",
    "df3 = pd.DataFrame({'scrapped':scrapped_movies})\n",
    "\n",
    "result_df = pd.merge(df1, df2, left_on='movies', right_on='leftover', how='outer')\n",
    "\n",
    "result_df = pd.merge(result_df, df3, left_on='movies', right_on='scrapped', how='outer')\n",
    "\n",
    "result_df.to_csv(\"output.csv\")\n"
   ]
  },
  {
   "cell_type": "code",
   "execution_count": 124,
   "metadata": {},
   "outputs": [
    {
     "data": {
      "text/plain": [
       "(2005, 1873, 132, 2005)"
      ]
     },
     "execution_count": 124,
     "metadata": {},
     "output_type": "execute_result"
    }
   ],
   "source": [
    "len(movies), len(scrapped_movies), len(leftover) , (len(scrapped_movies)+len(leftover))"
   ]
  },
  {
   "cell_type": "code",
   "execution_count": 12,
   "metadata": {},
   "outputs": [
    {
     "name": "stdout",
     "output_type": "stream",
     "text": [
      "Movie not found: xi you ji zhi sun wu kong san da bai gu jing\n",
      "Movie not found: sztuka kochania. historia michaliny wislockiej\n",
      "Movie not found: mrs. harris goes to paris\n",
      "Movie not found: the conjuring 2: the enfield poltergeist\n",
      "Movie not found: siakh lokhamim: ha'slilim ha'gnouzim\n",
      "Movie not found: tyler perry's a madea family funeral\n",
      "Movie not found: tao jie\n",
      "Movie not found: jìyì dàshī\n",
      "Movie not found: ratchet and clank\n",
      "Movie not found: don gato, el inicio de la pandilla\n",
      "Movie not found: los insolitos peces gato\n",
      "Movie not found: disney planes\n",
      "Movie not found: tyler perry's a madea christmas\n",
      "Movie not found: cìkè niè yinniáng\n",
      "Movie not found: o menino e o mundo\n",
      "Movie not found: star wars ep. viii: the last jedi\n",
      "Movie not found: texas chainsaw 3d\n",
      "Movie not found: supesu batorushippu yamato\n",
      "Movie not found: ostatnia rodzina\n",
      "Movie not found: sardaar ji\n",
      "Movie not found: red 11\n",
      "Movie not found: arthur and the war of two worlds\n",
      "Movie not found: savva. serdtse voyna\n",
      "Movie not found: loulou, l'incroyable secret\n",
      "Movie not found: ford v. ferrari\n",
      "Movie not found: que horas ela volta?\n",
      "Movie not found: la folle histoire de max et léon\n",
      "Movie not found: cafarnaúm\n",
      "Movie not found: r.l. stine's monsterville: the cabinet of souls\n",
      "Movie not found: the old man and the gun\n",
      "Movie not found: baekdusan\n",
      "Movie not found: la navaja de don juan\n",
      "Movie not found: snake eyes: g.i. joe origins\n",
      "Movie not found: adopte un veuf\n",
      "Movie not found: retfærdighedens ryttere\n",
      "Movie not found: the boss baby: family business\n",
      "Movie not found: j'ai perdu mon corps\n",
      "Movie not found: dr. seuss' the grinch\n",
      "Movie not found: yi ge ren de wu lin\n",
      "Movie not found: brooklyn bizarre\n",
      "Movie not found: the hitman's wife's bodyguard\n",
      "Movie not found: mr. church\n",
      "Movie not found: patients of a saint\n",
      "Movie not found: mortadelo y filemón contra jimmy el cachondo\n",
      "Movie not found: zhuo yao ji\n",
      "Movie not found: geograf globus propil\n",
      "Movie not found: the hangover 3\n",
      "Movie not found: the divergent series: allegiant\n",
      "Movie not found: portrait de la jeune fille en feu\n",
      "Movie not found: dolor y gloria\n",
      "Movie not found: john wick: chapter two\n",
      "Movie not found: sha po lang: tan lang\n",
      "Movie not found: the current war: director's cut\n",
      "Movie not found: tang ren jie tan an 3\n",
      "Movie not found: spider-man: into the spider-verse 3d\n",
      "Movie not found: birds of prey (and the fantabulous emancipation\n",
      "Movie not found: roman j. israel, esq.\n",
      "Movie not found: rise of the entrepreneur: the search for a bett\n",
      "Movie not found: green street hooligans: underground\n",
      "Movie not found: posledniy bogatyr\n",
      "Movie not found: la ch'tite famille\n",
      "Movie not found: nurse 3d\n",
      "Movie not found: airlift (2016)\n",
      "Movie not found: hillary's america: the secret history of the de\n",
      "Movie not found: planes: fire and rescue\n",
      "Movie not found: fast and furious 6\n",
      "Movie not found: feichang xingyun\n",
      "Movie not found: werk ohne autor\n",
      "Movie not found: hevi reissu\n",
      "Movie not found: le flic de belleville\n",
      "Movie not found: mamma mia: here we go again!\n",
      "Movie not found: zimna wojna\n",
      "Movie not found: tyler perry's boo! a madea halloween\n",
      "Movie not found: le bonheur d'elza\n",
      "Movie not found: kirikou et les hommes et les femmes\n",
      "Movie not found: to be frank, sinatra at 100\n",
      "Movie not found: tyler perry's temptation\n",
      "Movie not found: dofus - livre 1: julith\n",
      "Movie not found: pmc: deo beong-keo\n",
      "Movie not found: pourquoi j'ai pas mangé mon père\n",
      "Movie not found: estiu 1993\n",
      "Movie not found: running forever\n",
      "Movie not found: guten tag, ramon\n",
      "Movie not found: não pare na pista: a melhor história de paulo c\n",
      "Movie not found: skammerens datter\n",
      "Movie not found: big george foreman: the miraculous story of the\n",
      "Movie not found: tian jiang xiong shi\n",
      "Movie not found: la famille bélier\n",
      "Movie not found: navy seal vs. zombies\n",
      "Movie not found: girlhouse\n",
      "Movie not found: sh*thouse\n",
      "Movie not found: yi dai zong shi\n",
      "Movie not found: le tout nouveau testament\n",
      "Movie not found: out of the inferno\n",
      "Movie not found: bereurlin\n",
      "Movie not found: un monstre à paris\n",
      "Movie not found: ma vie de courgette\n",
      "Movie not found: christian mingle, the movie\n",
      "Movie not found: sgt. stubby: an american hero\n",
      "Movie not found: l'inconnu du lac\n",
      "Movie not found: alpha & omega: the legend of the saw tooth cave\n",
      "Movie not found: san cheng ji\n",
      "Movie not found: des nouvelles de la planète mars\n",
      "Movie not found: men, women and children\n",
      "Movie not found: polina danser sa vie\n",
      "Movie not found: trudno byt bogom\n",
      "Movie not found: under sandet\n",
      "Movie not found: loin des hommes\n",
      "Movie not found: star wars ep. vii: the force awakens\n",
      "Movie not found: el cuaderno de sara\n",
      "Movie not found: the sleepwalker (2014)\n",
      "Movie not found: chāi dàn zhuānjiā\n",
      "Movie not found: pertsa & kilu 2\n",
      "Movie not found: saul fia\n",
      "Movie not found: dvizhenie vverkh\n",
      "Movie not found: a haunting in connecticut 2: the ghosts of georgia\n",
      "Movie not found: mune, le gardien de la lune\n",
      "Movie not found: yip man 3\n",
      "Movie not found: lumea e a mea\n",
      "Movie not found: hvítur, hvítur dagur\n",
      "Movie not found: la vie d'adèle - chapitres 1 & 2\n",
      "Movie not found: utøya 22. juli\n",
      "Movie not found: visages villages\n",
      "Movie not found: hross i oss\n",
      "Movie not found: beyond the brick: a lego brickumentary\n",
      "Movie not found: in the name of the king iii\n",
      "Movie not found: victoria and abdul\n",
      "Movie not found: tyler perry's boo 2! a madea halloween\n",
      "Movie not found: la grande bellezza\n",
      "Movie not found: lee daniels' the butler\n",
      "Movie not found: praia do futuro\n",
      "Movie not found: les innocentes\n"
     ]
    }
   ],
   "source": [
    "new_list = []\n",
    "count = 0\n",
    "not_added = 0\n",
    "\n",
    "for m in leftover:\n",
    "    formatted = quote(m)\n",
    "    url = f\"http://www.omdbapi.com/?t={formatted}&apikey=2c60d316\"\n",
    "    response = requests.get(url)\n",
    "    # print(url)\n",
    "    if response.status_code == 200:\n",
    "        data = json.loads(response.text)\n",
    "        if data['Response'] != 'False':\n",
    "            new_list.append(data)\n",
    "            print(data['Title'], m)\n",
    "            count += 1\n",
    "        else:\n",
    "            print(f\"Movie not found: {m}\")\n",
    "            not_added += 1\n",
    "    else:\n",
    "        print(f\"Status code: {response.status_code}\")\n",
    "        break"
   ]
  },
  {
   "cell_type": "code",
   "execution_count": 11,
   "metadata": {},
   "outputs": [
    {
     "data": {
      "text/plain": [
       "(0, 113)"
      ]
     },
     "execution_count": 11,
     "metadata": {},
     "output_type": "execute_result"
    }
   ],
   "source": [
    "# count , not_added"
   ]
  },
  {
   "cell_type": "code",
   "execution_count": 81,
   "metadata": {},
   "outputs": [
    {
     "data": {
      "text/plain": [
       "(0,\n",
       " 1935,\n",
       " RangeIndex(start=0, stop=0, step=1),\n",
       " Index(['Title', 'Year', 'Rated', 'Released', 'Runtime', 'Genre', 'Director',\n",
       "        'Writer', 'Actors', 'Plot', 'Language', 'Country', 'Awards', 'Poster',\n",
       "        'Ratings', 'Metascore', 'imdbRating', 'imdbVotes', 'imdbID', 'Type',\n",
       "        'DVD', 'BoxOffice', 'Production', 'Website', 'totalSeasons',\n",
       "        'Response'],\n",
       "       dtype='object'))"
      ]
     },
     "execution_count": 81,
     "metadata": {},
     "output_type": "execute_result"
    }
   ],
   "source": [
    "new_scrapped = pd.DataFrame(new_list)\n",
    "len(new_scrapped), len(scrapped), new_scrapped.columns, scrapped.columns"
   ]
  },
  {
   "cell_type": "code",
   "execution_count": 89,
   "metadata": {},
   "outputs": [],
   "source": [
    "merged_new = pd.concat([scrapped, new_scrapped], ignore_index = True)"
   ]
  },
  {
   "cell_type": "code",
   "execution_count": 90,
   "metadata": {},
   "outputs": [],
   "source": [
    "merged_new.to_csv('new_merged_scrapped.csv', index=False)"
   ]
  },
  {
   "cell_type": "code",
   "execution_count": 20,
   "metadata": {},
   "outputs": [],
   "source": [
    "dms = pd.read_csv(\"new_merged_scrapped.csv\").drop('Poster', axis = 1)\n",
    "dms = dms.drop_duplicates()\n",
    "\n",
    "# dms = dms.drop(791)\n",
    "dms.to_csv(\"new_merged_scrapped.csv\", index=False)\n",
    "# dms = dms.drop(752)"
   ]
  },
  {
   "cell_type": "code",
   "execution_count": 79,
   "metadata": {},
   "outputs": [
    {
     "data": {
      "text/plain": [
       "1935"
      ]
     },
     "execution_count": 79,
     "metadata": {},
     "output_type": "execute_result"
    }
   ],
   "source": [
    "len(scrapped)"
   ]
  },
  {
   "cell_type": "code",
   "execution_count": null,
   "metadata": {},
   "outputs": [],
   "source": []
  },
  {
   "cell_type": "code",
   "execution_count": 114,
   "metadata": {},
   "outputs": [],
   "source": [
    "\n",
    "    "
   ]
  },
  {
   "cell_type": "code",
   "execution_count": 117,
   "metadata": {},
   "outputs": [
    {
     "data": {
      "text/plain": [
       "(7, 1928)"
      ]
     },
     "execution_count": 117,
     "metadata": {},
     "output_type": "execute_result"
    }
   ],
   "source": []
  }
 ],
 "metadata": {
  "kernelspec": {
   "display_name": "env",
   "language": "python",
   "name": "env"
  },
  "language_info": {
   "codemirror_mode": {
    "name": "ipython",
    "version": 3
   },
   "file_extension": ".py",
   "mimetype": "text/x-python",
   "name": "python",
   "nbconvert_exporter": "python",
   "pygments_lexer": "ipython3",
   "version": "3.10.12"
  }
 },
 "nbformat": 4,
 "nbformat_minor": 2
}
