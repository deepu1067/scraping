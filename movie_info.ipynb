{
 "cells": [
  {
   "cell_type": "code",
   "execution_count": 51,
   "metadata": {},
   "outputs": [],
   "source": [
    "from selenium import webdriver\n",
    "from selenium.webdriver.common.by import By\n",
    "from selenium.webdriver.chrome.options import Options\n",
    "from selenium.webdriver.support import expected_conditions as EC\n",
    "from selenium.webdriver.support.ui import WebDriverWait\n",
    "from bs4 import BeautifulSoup\n",
    "from datetime import datetime\n",
    "import pandas as pd\n",
    "import json\n",
    "import random\n",
    "from selenium_stealth import stealth"
   ]
  },
  {
   "cell_type": "code",
   "execution_count": 4,
   "metadata": {},
   "outputs": [],
   "source": [
    "df = pd.read_csv(\"movies.csv\")\n",
    "movies = df.to_dict(orient=\"records\")"
   ]
  },
  {
   "cell_type": "code",
   "execution_count": 34,
   "metadata": {},
   "outputs": [],
   "source": [
    "# driver = webdriver.Chrome(options=options)"
   ]
  },
  {
   "cell_type": "code",
   "execution_count": 5,
   "metadata": {},
   "outputs": [
    {
     "data": {
      "text/plain": [
       "{'Unnamed: 0': 0,\n",
       " 'date': 'Jan 4, 2013',\n",
       " 'title': 'Texas Chainsaw 3D',\n",
       " 'production budget': '$20,000,000',\n",
       " 'domestric budget': '$34,341,945',\n",
       " 'worldwide gross': '$47,666,013'}"
      ]
     },
     "execution_count": 5,
     "metadata": {},
     "output_type": "execute_result"
    }
   ],
   "source": [
    "movies[0]"
   ]
  },
  {
   "cell_type": "code",
   "execution_count": 22,
   "metadata": {},
   "outputs": [],
   "source": [
    "proxy_list = []\n",
    "with open(\"valid_proxy.txt\", \"r\") as file:\n",
    "    proxies = file.read().split(\"\\n\")\n",
    "    for p in proxies:\n",
    "        proxy_list.append(p)"
   ]
  },
  {
   "cell_type": "code",
   "execution_count": 23,
   "metadata": {},
   "outputs": [
    {
     "data": {
      "text/plain": [
       "'https://www.google.com/search?q=Geograf+globus+propil+movie+site%3Aimdb.com'"
      ]
     },
     "execution_count": 23,
     "metadata": {},
     "output_type": "execute_result"
    }
   ],
   "source": [
    "def get_url(movie_title):\n",
    "    encoded_string = movie_title.replace(\"&\", \"%26\")\n",
    "    encoded_string = encoded_string.replace(\":\", \"%3A\")\n",
    "    encoded_string = encoded_string.replace(\" \", \"+\")\n",
    "    return (\n",
    "        \"https://www.google.com/search?q=\" + encoded_string + \"+movie+site%3Aimdb.com\"\n",
    "    )\n",
    "\n",
    "\n",
    "get_url(movies[200][\"title\"])"
   ]
  },
  {
   "cell_type": "code",
   "execution_count": 24,
   "metadata": {},
   "outputs": [],
   "source": [
    "def get_chrome_with_proxy(proxy):\n",
    "    chrome_options = Options()\n",
    "    chrome_options.add_argument(f\"--proxy-server={proxy}\")\n",
    "    driver = webdriver.Chrome(options=chrome_options)\n",
    "    return driver\n",
    "\n",
    "\n",
    "def get_chrome_with_random_proxy():\n",
    "    proxy = random.choice(proxy_list)\n",
    "    print(f\"Using proxy: {proxy}\")\n",
    "    return get_chrome_with_proxy(proxy)"
   ]
  },
  {
   "cell_type": "code",
   "execution_count": 65,
   "metadata": {},
   "outputs": [],
   "source": [
    "prox_tst = \"66.98.24.237:8080\"\n",
    "op = Options()\n",
    "op.add_argument(\"start-maximized\")\n",
    "op.add_experimental_option(\"excludeSwitches\", [\"enable-automation\"])\n",
    "op.add_experimental_option(\"useAutomationExtension\", False)\n",
    "op.add_argument(f\"--proxy-server={prox_tst}\")\n",
    "driver = webdriver.Chrome(options=op)\n",
    "\n",
    "stealth(\n",
    "    driver,\n",
    "    user_agent=\"Mozilla/5.0 (Windows NT 10.0; Win64; x64) AppleWebKit/537.36 (KHTML, like Gecko) Chrome/83.0.4103.53 Safari/537.36\",\n",
    "    languages=[\"en-US\", \"en\"],\n",
    "    vendor=\"Google Inc.\",\n",
    "    platform=\"Win32\",\n",
    "    webgl_vendor=\"Intel Inc.\",\n",
    "    renderer=\"Intel Iris OpenGL Engine\",\n",
    "    fix_hairline=False,\n",
    "    run_on_insecure_origins=False,\n",
    ")\n",
    "\n",
    "driver.get(\"https://www.google.com/search?q=test\")\n",
    "\n",
    "\n",
    "# driver.close()"
   ]
  },
  {
   "cell_type": "code",
   "execution_count": null,
   "metadata": {},
   "outputs": [],
   "source": [
    "import time\n",
    "\n",
    "while True:\n",
    "    driver = get_chrome_with_random_proxy()  # Use a random proxy for the driver\n",
    "    try:\n",
    "        for movie in movies:\n",
    "            if 'url' in movie.keys():\n",
    "                continue\n",
    "            driver.get(get_url(movie['title']))\n",
    "            movie_page = None\n",
    "            # Attempt to find the movie page link\n",
    "            for xpath in [\n",
    "                '//*[@id=\"rso\"]/div[1]/div/div/div[1]/div/div/span/a',\n",
    "                '//*[@id=\"rso\"]/div[1]/div/div/div/div[1]/div/div/span/a',\n",
    "                '//*[@id=\"rso\"]/div[2]/div/div/div[1]/div/div/span/a'\n",
    "            ]:\n",
    "                try:\n",
    "                    movie_page = driver.find_element(By.XPATH, xpath).get_attribute('href')\n",
    "                    if movie_page:\n",
    "                        break\n",
    "                except:\n",
    "                    continue\n",
    "            if movie_page:\n",
    "                movie['url'] = movie_page\n",
    "            else:\n",
    "                print(\"Failed to find movie page for:\", movie['title'])\n",
    "        break  # Exit the loop if all movies processed successfully\n",
    "    except Exception as e:\n",
    "        print(\"Error processing movie:\", movie)\n",
    "        print(str(e))\n",
    "        continue  # Continue trying with a new proxy if there was an exception\n",
    "    finally:\n",
    "        driver.quit()  # Make sure to close the driver after each iteration"
   ]
  },
  {
   "cell_type": "code",
   "execution_count": 47,
   "metadata": {},
   "outputs": [
    {
     "data": {
      "text/plain": [
       "(279, 2010)"
      ]
     },
     "execution_count": 47,
     "metadata": {},
     "output_type": "execute_result"
    }
   ],
   "source": [
    "count = 0\n",
    "for i in movies:\n",
    "    if 'url' in i.keys():\n",
    "        count += 1\n",
    "\n",
    "count, len(movies)"
   ]
  },
  {
   "cell_type": "code",
   "execution_count": 48,
   "metadata": {},
   "outputs": [],
   "source": [
    "driver.close()"
   ]
  },
  {
   "cell_type": "code",
   "execution_count": 43,
   "metadata": {},
   "outputs": [],
   "source": []
  },
  {
   "cell_type": "code",
   "execution_count": null,
   "metadata": {},
   "outputs": [],
   "source": []
  }
 ],
 "metadata": {
  "kernelspec": {
   "display_name": "env",
   "language": "python",
   "name": "python3"
  },
  "language_info": {
   "codemirror_mode": {
    "name": "ipython",
    "version": 3
   },
   "file_extension": ".py",
   "mimetype": "text/x-python",
   "name": "python",
   "nbconvert_exporter": "python",
   "pygments_lexer": "ipython3",
   "version": "3.10.2"
  }
 },
 "nbformat": 4,
 "nbformat_minor": 2
}
