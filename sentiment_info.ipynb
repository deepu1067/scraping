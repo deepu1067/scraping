{
 "cells": [
  {
   "cell_type": "code",
   "execution_count": 2,
   "metadata": {},
   "outputs": [],
   "source": [
    "import pandas as pd"
   ]
  },
  {
   "cell_type": "code",
   "execution_count": 56,
   "metadata": {},
   "outputs": [],
   "source": [
    "sent_df = pd.read_csv(\"sentiments_movies.csv\").drop('Index', axis=1)\n",
    "info_df = pd.read_csv(\"new_merged_scrapped.csv\")"
   ]
  },
  {
   "cell_type": "code",
   "execution_count": 57,
   "metadata": {},
   "outputs": [
    {
     "data": {
      "text/plain": [
       "(Index(['date', 'title', 'production budget', 'domestric budget',\n",
       "        'worldwide gross', 'negative', 'positive'],\n",
       "       dtype='object'),\n",
       " Index(['title', 'year', 'rated', 'released', 'runtime', 'genre', 'director',\n",
       "        'writer', 'actors', 'plot', 'language', 'country', 'awards', 'ratings',\n",
       "        'metascore', 'imdbrating', 'imdbvotes', 'imdbid', 'type', 'boxoffice',\n",
       "        'production'],\n",
       "       dtype='object'))"
      ]
     },
     "execution_count": 57,
     "metadata": {},
     "output_type": "execute_result"
    }
   ],
   "source": [
    "info_df.columns = [col.lower() for col in info_df.columns]\n",
    "sent_df.columns, info_df.columns"
   ]
  },
  {
   "cell_type": "code",
   "execution_count": 58,
   "metadata": {},
   "outputs": [],
   "source": [
    "df = sent_df.merge(info_df, on='title', how='inner')\n",
    "df.fillna(0, inplace=True)"
   ]
  },
  {
   "cell_type": "code",
   "execution_count": 59,
   "metadata": {},
   "outputs": [
    {
     "data": {
      "text/plain": [
       "(1716, 1916, 2010)"
      ]
     },
     "execution_count": 59,
     "metadata": {},
     "output_type": "execute_result"
    }
   ],
   "source": [
    "len(df), len(info_df), len(sent_df)"
   ]
  },
  {
   "cell_type": "code",
   "execution_count": null,
   "metadata": {},
   "outputs": [],
   "source": []
  },
  {
   "cell_type": "code",
   "execution_count": 70,
   "metadata": {},
   "outputs": [],
   "source": [
    "# df = df[(df['domestric budget'] != '$0') | (df['worldwide gross'] != '$0')]\n",
    "# df['runtime'] = df['runtime'].str.replace(' min', '')\n",
    "# df = df.drop('year', axis=1)\n",
    "# df = df.drop('released', axis=1)\n",
    "df = df.drop('production', axis=1)"
   ]
  },
  {
   "cell_type": "code",
   "execution_count": 71,
   "metadata": {},
   "outputs": [
    {
     "data": {
      "text/html": [
       "<div>\n",
       "<style scoped>\n",
       "    .dataframe tbody tr th:only-of-type {\n",
       "        vertical-align: middle;\n",
       "    }\n",
       "\n",
       "    .dataframe tbody tr th {\n",
       "        vertical-align: top;\n",
       "    }\n",
       "\n",
       "    .dataframe thead th {\n",
       "        text-align: right;\n",
       "    }\n",
       "</style>\n",
       "<table border=\"1\" class=\"dataframe\">\n",
       "  <thead>\n",
       "    <tr style=\"text-align: right;\">\n",
       "      <th></th>\n",
       "      <th>date</th>\n",
       "      <th>title</th>\n",
       "      <th>production budget</th>\n",
       "      <th>domestric budget</th>\n",
       "      <th>worldwide gross</th>\n",
       "      <th>negative</th>\n",
       "      <th>positive</th>\n",
       "      <th>rated</th>\n",
       "      <th>runtime</th>\n",
       "      <th>genre</th>\n",
       "      <th>...</th>\n",
       "      <th>language</th>\n",
       "      <th>country</th>\n",
       "      <th>awards</th>\n",
       "      <th>ratings</th>\n",
       "      <th>metascore</th>\n",
       "      <th>imdbrating</th>\n",
       "      <th>imdbvotes</th>\n",
       "      <th>imdbid</th>\n",
       "      <th>type</th>\n",
       "      <th>boxoffice</th>\n",
       "    </tr>\n",
       "  </thead>\n",
       "  <tbody>\n",
       "    <tr>\n",
       "      <th>0</th>\n",
       "      <td>Jan 4, 2013</td>\n",
       "      <td>Promised Land</td>\n",
       "      <td>$15,000,000</td>\n",
       "      <td>$7,597,898</td>\n",
       "      <td>$12,394,562</td>\n",
       "      <td>34.0</td>\n",
       "      <td>19.0</td>\n",
       "      <td>R</td>\n",
       "      <td>106</td>\n",
       "      <td>Drama</td>\n",
       "      <td>...</td>\n",
       "      <td>English</td>\n",
       "      <td>United States, United Arab Emirates</td>\n",
       "      <td>3 wins &amp; 7 nominations</td>\n",
       "      <td>[{'Source': 'Internet Movie Database', 'Value'...</td>\n",
       "      <td>55.0</td>\n",
       "      <td>6.6</td>\n",
       "      <td>39,714</td>\n",
       "      <td>tt2091473</td>\n",
       "      <td>movie</td>\n",
       "      <td>$7,597,898</td>\n",
       "    </tr>\n",
       "    <tr>\n",
       "      <th>2</th>\n",
       "      <td>Jan 9, 2013</td>\n",
       "      <td>Gangster Squad</td>\n",
       "      <td>$60,000,000</td>\n",
       "      <td>$46,000,903</td>\n",
       "      <td>$104,100,903</td>\n",
       "      <td>44.0</td>\n",
       "      <td>27.0</td>\n",
       "      <td>R</td>\n",
       "      <td>113</td>\n",
       "      <td>Action, Crime, Drama</td>\n",
       "      <td>...</td>\n",
       "      <td>English</td>\n",
       "      <td>United States</td>\n",
       "      <td>5 nominations</td>\n",
       "      <td>[{'Source': 'Internet Movie Database', 'Value'...</td>\n",
       "      <td>40.0</td>\n",
       "      <td>6.7</td>\n",
       "      <td>222,133</td>\n",
       "      <td>tt1321870</td>\n",
       "      <td>movie</td>\n",
       "      <td>$46,000,903</td>\n",
       "    </tr>\n",
       "    <tr>\n",
       "      <th>3</th>\n",
       "      <td>Jan 11, 2013</td>\n",
       "      <td>A Haunted House</td>\n",
       "      <td>$2,500,000</td>\n",
       "      <td>$40,041,683</td>\n",
       "      <td>$59,922,558</td>\n",
       "      <td>17.0</td>\n",
       "      <td>16.0</td>\n",
       "      <td>R</td>\n",
       "      <td>86</td>\n",
       "      <td>Comedy, Fantasy, Horror</td>\n",
       "      <td>...</td>\n",
       "      <td>English, Spanish</td>\n",
       "      <td>United States</td>\n",
       "      <td>1 win &amp; 1 nomination</td>\n",
       "      <td>[{'Source': 'Internet Movie Database', 'Value'...</td>\n",
       "      <td>20.0</td>\n",
       "      <td>5.0</td>\n",
       "      <td>49,729</td>\n",
       "      <td>tt2243537</td>\n",
       "      <td>movie</td>\n",
       "      <td>$40,041,683</td>\n",
       "    </tr>\n",
       "    <tr>\n",
       "      <th>4</th>\n",
       "      <td>Jan 17, 2013</td>\n",
       "      <td>The Last Stand</td>\n",
       "      <td>$30,000,000</td>\n",
       "      <td>$12,050,299</td>\n",
       "      <td>$48,330,757</td>\n",
       "      <td>66.0</td>\n",
       "      <td>49.0</td>\n",
       "      <td>R</td>\n",
       "      <td>107</td>\n",
       "      <td>Action, Thriller, Western</td>\n",
       "      <td>...</td>\n",
       "      <td>English</td>\n",
       "      <td>United States, South Korea</td>\n",
       "      <td>1 win &amp; 2 nominations</td>\n",
       "      <td>[{'Source': 'Internet Movie Database', 'Value'...</td>\n",
       "      <td>54.0</td>\n",
       "      <td>6.3</td>\n",
       "      <td>145,119</td>\n",
       "      <td>tt1549920</td>\n",
       "      <td>movie</td>\n",
       "      <td>$12,050,299</td>\n",
       "    </tr>\n",
       "    <tr>\n",
       "      <th>5</th>\n",
       "      <td>Jan 17, 2013</td>\n",
       "      <td>Mama</td>\n",
       "      <td>$15,000,000</td>\n",
       "      <td>$71,628,180</td>\n",
       "      <td>$148,095,566</td>\n",
       "      <td>16.0</td>\n",
       "      <td>13.0</td>\n",
       "      <td>PG-13</td>\n",
       "      <td>100</td>\n",
       "      <td>Fantasy, Horror, Thriller</td>\n",
       "      <td>...</td>\n",
       "      <td>English</td>\n",
       "      <td>Canada, Spain</td>\n",
       "      <td>11 wins &amp; 19 nominations</td>\n",
       "      <td>[{'Source': 'Internet Movie Database', 'Value'...</td>\n",
       "      <td>57.0</td>\n",
       "      <td>6.2</td>\n",
       "      <td>190,851</td>\n",
       "      <td>tt2023587</td>\n",
       "      <td>movie</td>\n",
       "      <td>$71,628,180</td>\n",
       "    </tr>\n",
       "  </tbody>\n",
       "</table>\n",
       "<p>5 rows × 24 columns</p>\n",
       "</div>"
      ],
      "text/plain": [
       "           date            title production budget domestric budget  \\\n",
       "0   Jan 4, 2013    Promised Land       $15,000,000       $7,597,898   \n",
       "2   Jan 9, 2013   Gangster Squad       $60,000,000      $46,000,903   \n",
       "3  Jan 11, 2013  A Haunted House        $2,500,000      $40,041,683   \n",
       "4  Jan 17, 2013   The Last Stand       $30,000,000      $12,050,299   \n",
       "5  Jan 17, 2013             Mama       $15,000,000      $71,628,180   \n",
       "\n",
       "  worldwide gross  negative  positive  rated runtime  \\\n",
       "0     $12,394,562      34.0      19.0      R     106   \n",
       "2    $104,100,903      44.0      27.0      R     113   \n",
       "3     $59,922,558      17.0      16.0      R      86   \n",
       "4     $48,330,757      66.0      49.0      R     107   \n",
       "5    $148,095,566      16.0      13.0  PG-13     100   \n",
       "\n",
       "                       genre  ...          language  \\\n",
       "0                      Drama  ...           English   \n",
       "2       Action, Crime, Drama  ...           English   \n",
       "3    Comedy, Fantasy, Horror  ...  English, Spanish   \n",
       "4  Action, Thriller, Western  ...           English   \n",
       "5  Fantasy, Horror, Thriller  ...           English   \n",
       "\n",
       "                               country                    awards  \\\n",
       "0  United States, United Arab Emirates    3 wins & 7 nominations   \n",
       "2                        United States             5 nominations   \n",
       "3                        United States      1 win & 1 nomination   \n",
       "4           United States, South Korea     1 win & 2 nominations   \n",
       "5                        Canada, Spain  11 wins & 19 nominations   \n",
       "\n",
       "                                             ratings metascore imdbrating  \\\n",
       "0  [{'Source': 'Internet Movie Database', 'Value'...      55.0        6.6   \n",
       "2  [{'Source': 'Internet Movie Database', 'Value'...      40.0        6.7   \n",
       "3  [{'Source': 'Internet Movie Database', 'Value'...      20.0        5.0   \n",
       "4  [{'Source': 'Internet Movie Database', 'Value'...      54.0        6.3   \n",
       "5  [{'Source': 'Internet Movie Database', 'Value'...      57.0        6.2   \n",
       "\n",
       "  imdbvotes     imdbid   type    boxoffice  \n",
       "0    39,714  tt2091473  movie   $7,597,898  \n",
       "2   222,133  tt1321870  movie  $46,000,903  \n",
       "3    49,729  tt2243537  movie  $40,041,683  \n",
       "4   145,119  tt1549920  movie  $12,050,299  \n",
       "5   190,851  tt2023587  movie  $71,628,180  \n",
       "\n",
       "[5 rows x 24 columns]"
      ]
     },
     "execution_count": 71,
     "metadata": {},
     "output_type": "execute_result"
    }
   ],
   "source": [
    "df.head()"
   ]
  },
  {
   "cell_type": "code",
   "execution_count": 77,
   "metadata": {},
   "outputs": [],
   "source": [
    "genre_lists = df['genre'].dropna().str.split(', ')\n",
    "all_genres = [genre for sublist in genre_lists for genre in sublist]\n",
    "unique_genres = set(all_genres)\n",
    "unique_genres_list = list(unique_genres)\n"
   ]
  },
  {
   "cell_type": "code",
   "execution_count": 87,
   "metadata": {},
   "outputs": [],
   "source": [
    "# df_copy = df.copy()\n",
    "\n",
    "# Ensure 'genre' column is split into lists (if not already)\n",
    "df['genre'] = df['genre'].dropna()\n",
    "\n",
    "# Create a new column for each genre in the unique genres list\n",
    "for genre in unique_genres_list:\n",
    "    df[genre] = df['genre'].apply(lambda genres: 1 if genre in genres.split(', ') else 0)\n"
   ]
  },
  {
   "cell_type": "code",
   "execution_count": 92,
   "metadata": {},
   "outputs": [],
   "source": [
    "df = df.drop('boxoffice', axis=1)"
   ]
  },
  {
   "cell_type": "code",
   "execution_count": 93,
   "metadata": {},
   "outputs": [],
   "source": [
    "df.to_csv(\"complete_movies.csv\", index=False)"
   ]
  },
  {
   "cell_type": "code",
   "execution_count": null,
   "metadata": {},
   "outputs": [],
   "source": []
  }
 ],
 "metadata": {
  "kernelspec": {
   "display_name": "env",
   "language": "python",
   "name": "env"
  },
  "language_info": {
   "codemirror_mode": {
    "name": "ipython",
    "version": 3
   },
   "file_extension": ".py",
   "mimetype": "text/x-python",
   "name": "python",
   "nbconvert_exporter": "python",
   "pygments_lexer": "ipython3",
   "version": "3.10.12"
  }
 },
 "nbformat": 4,
 "nbformat_minor": 2
}
