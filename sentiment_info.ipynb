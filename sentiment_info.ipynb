{
 "cells": [
  {
   "cell_type": "code",
   "execution_count": 1,
   "metadata": {},
   "outputs": [],
   "source": [
    "import pandas as pd"
   ]
  },
  {
   "cell_type": "code",
   "execution_count": 4,
   "metadata": {},
   "outputs": [],
   "source": [
    "sent_df = pd.read_csv(\"sentiments_movies.csv\").drop('Index', axis=1)\n",
    "info_df = pd.read_csv(\"movie_info.csv\")"
   ]
  },
  {
   "cell_type": "code",
   "execution_count": 7,
   "metadata": {},
   "outputs": [
    {
     "data": {
      "text/plain": [
       "(Index(['date', 'title', 'production budget', 'domestric budget',\n",
       "        'worldwide gross', 'negative', 'positive'],\n",
       "       dtype='object'),\n",
       " Index(['Title', 'Year', 'Rated', 'Released', 'Runtime', 'Genre', 'Director',\n",
       "        'Writer', 'Actors', 'Plot', 'Language', 'Country', 'Awards', 'Poster',\n",
       "        'Ratings', 'Metascore', 'imdbRating', 'imdbVotes', 'imdbID', 'Type',\n",
       "        'DVD', 'BoxOffice', 'Production', 'Website', 'totalSeasons',\n",
       "        'Response'],\n",
       "       dtype='object'))"
      ]
     },
     "execution_count": 7,
     "metadata": {},
     "output_type": "execute_result"
    }
   ],
   "source": [
    "sent_df.columns, info_df.columns"
   ]
  },
  {
   "cell_type": "code",
   "execution_count": 8,
   "metadata": {},
   "outputs": [
    {
     "data": {
      "text/plain": [
       "(Index(['date', 'title', 'production budget', 'domestric budget',\n",
       "        'worldwide gross', 'negative', 'positive'],\n",
       "       dtype='object'),\n",
       " Index(['title', 'year', 'rated', 'released', 'runtime', 'genre', 'director',\n",
       "        'writer', 'actors', 'plot', 'language', 'country', 'awards', 'poster',\n",
       "        'ratings', 'metascore', 'imdbrating', 'imdbvotes', 'imdbid', 'type',\n",
       "        'dvd', 'boxoffice', 'production', 'website', 'totalseasons',\n",
       "        'response'],\n",
       "       dtype='object'))"
      ]
     },
     "execution_count": 8,
     "metadata": {},
     "output_type": "execute_result"
    }
   ],
   "source": [
    "info_df.columns = [col.lower() for col in info_df.columns]\n",
    "sent_df.columns, info_df.columns"
   ]
  },
  {
   "cell_type": "code",
   "execution_count": 9,
   "metadata": {},
   "outputs": [],
   "source": [
    "df = pd.merge(sent_df, info_df, on='title', how='left')\n",
    "df.fillna(0, inplace=True)"
   ]
  },
  {
   "cell_type": "code",
   "execution_count": 10,
   "metadata": {},
   "outputs": [
    {
     "data": {
      "text/plain": [
       "(2010, 1873, 2010)"
      ]
     },
     "execution_count": 10,
     "metadata": {},
     "output_type": "execute_result"
    }
   ],
   "source": [
    "len(df), len(info_df), len(sent_df)"
   ]
  },
  {
   "cell_type": "code",
   "execution_count": 11,
   "metadata": {},
   "outputs": [
    {
     "data": {
      "text/html": [
       "<div>\n",
       "<style scoped>\n",
       "    .dataframe tbody tr th:only-of-type {\n",
       "        vertical-align: middle;\n",
       "    }\n",
       "\n",
       "    .dataframe tbody tr th {\n",
       "        vertical-align: top;\n",
       "    }\n",
       "\n",
       "    .dataframe thead th {\n",
       "        text-align: right;\n",
       "    }\n",
       "</style>\n",
       "<table border=\"1\" class=\"dataframe\">\n",
       "  <thead>\n",
       "    <tr style=\"text-align: right;\">\n",
       "      <th></th>\n",
       "      <th>date</th>\n",
       "      <th>title</th>\n",
       "      <th>production budget</th>\n",
       "      <th>domestric budget</th>\n",
       "      <th>worldwide gross</th>\n",
       "      <th>negative</th>\n",
       "      <th>positive</th>\n",
       "      <th>year</th>\n",
       "      <th>rated</th>\n",
       "      <th>released</th>\n",
       "      <th>...</th>\n",
       "      <th>imdbrating</th>\n",
       "      <th>imdbvotes</th>\n",
       "      <th>imdbid</th>\n",
       "      <th>type</th>\n",
       "      <th>dvd</th>\n",
       "      <th>boxoffice</th>\n",
       "      <th>production</th>\n",
       "      <th>website</th>\n",
       "      <th>totalseasons</th>\n",
       "      <th>response</th>\n",
       "    </tr>\n",
       "  </thead>\n",
       "  <tbody>\n",
       "    <tr>\n",
       "      <th>0</th>\n",
       "      <td>Jan 4, 2013</td>\n",
       "      <td>Texas Chainsaw 3D</td>\n",
       "      <td>$20,000,000</td>\n",
       "      <td>$34,341,945</td>\n",
       "      <td>$47,666,013</td>\n",
       "      <td>35.0</td>\n",
       "      <td>11.0</td>\n",
       "      <td>0</td>\n",
       "      <td>0</td>\n",
       "      <td>0</td>\n",
       "      <td>...</td>\n",
       "      <td>0.0</td>\n",
       "      <td>0</td>\n",
       "      <td>0</td>\n",
       "      <td>0</td>\n",
       "      <td>0</td>\n",
       "      <td>0</td>\n",
       "      <td>0</td>\n",
       "      <td>0.0</td>\n",
       "      <td>0.0</td>\n",
       "      <td>0</td>\n",
       "    </tr>\n",
       "    <tr>\n",
       "      <th>1</th>\n",
       "      <td>Jan 4, 2013</td>\n",
       "      <td>Promised Land</td>\n",
       "      <td>$15,000,000</td>\n",
       "      <td>$7,597,898</td>\n",
       "      <td>$12,394,562</td>\n",
       "      <td>34.0</td>\n",
       "      <td>19.0</td>\n",
       "      <td>2012</td>\n",
       "      <td>R</td>\n",
       "      <td>04 Jan 2013</td>\n",
       "      <td>...</td>\n",
       "      <td>6.6</td>\n",
       "      <td>39,714</td>\n",
       "      <td>tt2091473</td>\n",
       "      <td>movie</td>\n",
       "      <td>23 May 2016</td>\n",
       "      <td>$7,597,898</td>\n",
       "      <td>0</td>\n",
       "      <td>0.0</td>\n",
       "      <td>0.0</td>\n",
       "      <td>0</td>\n",
       "    </tr>\n",
       "    <tr>\n",
       "      <th>2</th>\n",
       "      <td>Jan 4, 2013</td>\n",
       "      <td>All Superheroes Must Die</td>\n",
       "      <td>$20,000</td>\n",
       "      <td>$0</td>\n",
       "      <td>$0</td>\n",
       "      <td>1.0</td>\n",
       "      <td>2.0</td>\n",
       "      <td>2011</td>\n",
       "      <td>Unrated</td>\n",
       "      <td>04 Jan 2013</td>\n",
       "      <td>...</td>\n",
       "      <td>3.9</td>\n",
       "      <td>2,305</td>\n",
       "      <td>tt1836212</td>\n",
       "      <td>movie</td>\n",
       "      <td>14 Oct 2014</td>\n",
       "      <td>0</td>\n",
       "      <td>0</td>\n",
       "      <td>0.0</td>\n",
       "      <td>0.0</td>\n",
       "      <td>0</td>\n",
       "    </tr>\n",
       "    <tr>\n",
       "      <th>3</th>\n",
       "      <td>Jan 8, 2013</td>\n",
       "      <td>Yi dai zong shi</td>\n",
       "      <td>$38,600,000</td>\n",
       "      <td>$6,594,959</td>\n",
       "      <td>$57,986,660</td>\n",
       "      <td>0.0</td>\n",
       "      <td>0.0</td>\n",
       "      <td>0</td>\n",
       "      <td>0</td>\n",
       "      <td>0</td>\n",
       "      <td>...</td>\n",
       "      <td>0.0</td>\n",
       "      <td>0</td>\n",
       "      <td>0</td>\n",
       "      <td>0</td>\n",
       "      <td>0</td>\n",
       "      <td>0</td>\n",
       "      <td>0</td>\n",
       "      <td>0.0</td>\n",
       "      <td>0.0</td>\n",
       "      <td>0</td>\n",
       "    </tr>\n",
       "    <tr>\n",
       "      <th>4</th>\n",
       "      <td>Jan 9, 2013</td>\n",
       "      <td>Gangster Squad</td>\n",
       "      <td>$60,000,000</td>\n",
       "      <td>$46,000,903</td>\n",
       "      <td>$104,100,903</td>\n",
       "      <td>44.0</td>\n",
       "      <td>27.0</td>\n",
       "      <td>2013</td>\n",
       "      <td>R</td>\n",
       "      <td>11 Jan 2013</td>\n",
       "      <td>...</td>\n",
       "      <td>6.7</td>\n",
       "      <td>222,133</td>\n",
       "      <td>tt1321870</td>\n",
       "      <td>movie</td>\n",
       "      <td>01 Nov 2014</td>\n",
       "      <td>$46,000,903</td>\n",
       "      <td>0</td>\n",
       "      <td>0.0</td>\n",
       "      <td>0.0</td>\n",
       "      <td>0</td>\n",
       "    </tr>\n",
       "  </tbody>\n",
       "</table>\n",
       "<p>5 rows × 32 columns</p>\n",
       "</div>"
      ],
      "text/plain": [
       "          date                     title production budget domestric budget  \\\n",
       "0  Jan 4, 2013         Texas Chainsaw 3D       $20,000,000      $34,341,945   \n",
       "1  Jan 4, 2013             Promised Land       $15,000,000       $7,597,898   \n",
       "2  Jan 4, 2013  All Superheroes Must Die           $20,000               $0   \n",
       "3  Jan 8, 2013           Yi dai zong shi       $38,600,000       $6,594,959   \n",
       "4  Jan 9, 2013            Gangster Squad       $60,000,000      $46,000,903   \n",
       "\n",
       "  worldwide gross  negative  positive  year    rated     released  ...  \\\n",
       "0     $47,666,013      35.0      11.0     0        0            0  ...   \n",
       "1     $12,394,562      34.0      19.0  2012        R  04 Jan 2013  ...   \n",
       "2              $0       1.0       2.0  2011  Unrated  04 Jan 2013  ...   \n",
       "3     $57,986,660       0.0       0.0     0        0            0  ...   \n",
       "4    $104,100,903      44.0      27.0  2013        R  11 Jan 2013  ...   \n",
       "\n",
       "  imdbrating imdbvotes     imdbid   type          dvd    boxoffice production  \\\n",
       "0        0.0         0          0      0            0            0          0   \n",
       "1        6.6    39,714  tt2091473  movie  23 May 2016   $7,597,898          0   \n",
       "2        3.9     2,305  tt1836212  movie  14 Oct 2014            0          0   \n",
       "3        0.0         0          0      0            0            0          0   \n",
       "4        6.7   222,133  tt1321870  movie  01 Nov 2014  $46,000,903          0   \n",
       "\n",
       "  website totalseasons response  \n",
       "0     0.0          0.0        0  \n",
       "1     0.0          0.0        0  \n",
       "2     0.0          0.0        0  \n",
       "3     0.0          0.0        0  \n",
       "4     0.0          0.0        0  \n",
       "\n",
       "[5 rows x 32 columns]"
      ]
     },
     "execution_count": 11,
     "metadata": {},
     "output_type": "execute_result"
    }
   ],
   "source": [
    "df.head()"
   ]
  },
  {
   "cell_type": "code",
   "execution_count": 18,
   "metadata": {},
   "outputs": [
    {
     "data": {
      "text/plain": [
       "Index(['date', 'title', 'production budget', 'domestric budget',\n",
       "       'worldwide gross', 'negative', 'positive', 'rated', 'runtime', 'genre',\n",
       "       'director', 'writer', 'actors', 'plot', 'language', 'country', 'awards',\n",
       "       'poster', 'ratings', 'metascore', 'imdbrating', 'imdbvotes', 'imdbid',\n",
       "       'type', 'dvd', 'boxoffice', 'production', 'website', 'totalseasons'],\n",
       "      dtype='object')"
      ]
     },
     "execution_count": 18,
     "metadata": {},
     "output_type": "execute_result"
    }
   ],
   "source": [
    "# df.columns\n",
    "df = df.drop('response', axis=1)\n",
    "df.columns"
   ]
  },
  {
   "cell_type": "code",
   "execution_count": null,
   "metadata": {},
   "outputs": [],
   "source": []
  },
  {
   "cell_type": "code",
   "execution_count": 15,
   "metadata": {},
   "outputs": [],
   "source": [
    "df.to_csv(\"complete_movies.csv\", index=False)"
   ]
  }
 ],
 "metadata": {
  "kernelspec": {
   "display_name": "env",
   "language": "python",
   "name": "env"
  },
  "language_info": {
   "codemirror_mode": {
    "name": "ipython",
    "version": 3
   },
   "file_extension": ".py",
   "mimetype": "text/x-python",
   "name": "python",
   "nbconvert_exporter": "python",
   "pygments_lexer": "ipython3",
   "version": "3.10.12"
  }
 },
 "nbformat": 4,
 "nbformat_minor": 2
}
