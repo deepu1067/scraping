{
 "cells": [
  {
   "cell_type": "code",
   "execution_count": 1,
   "metadata": {},
   "outputs": [],
   "source": [
    "import pandas as pd\n",
    "import os"
   ]
  },
  {
   "cell_type": "code",
   "execution_count": 2,
   "metadata": {},
   "outputs": [],
   "source": [
    "csv_files = ['sentiments_1.csv','sentiments_2.csv','sentiments_3.csv','sentiments_4.csv']\n",
    "\n",
    "dataframes = [pd.read_csv(file) for file in csv_files]\n",
    "\n",
    "sentiment_df = pd.concat(dataframes, ignore_index=True)"
   ]
  },
  {
   "cell_type": "code",
   "execution_count": 3,
   "metadata": {},
   "outputs": [
    {
     "data": {
      "text/plain": [
       "Index(['title', 'comments', 'sentiments'], dtype='object')"
      ]
     },
     "execution_count": 3,
     "metadata": {},
     "output_type": "execute_result"
    }
   ],
   "source": [
    "sentiment_df.columns"
   ]
  },
  {
   "cell_type": "code",
   "execution_count": 19,
   "metadata": {},
   "outputs": [
    {
     "data": {
      "text/html": [
       "<div>\n",
       "<style scoped>\n",
       "    .dataframe tbody tr th:only-of-type {\n",
       "        vertical-align: middle;\n",
       "    }\n",
       "\n",
       "    .dataframe tbody tr th {\n",
       "        vertical-align: top;\n",
       "    }\n",
       "\n",
       "    .dataframe thead th {\n",
       "        text-align: right;\n",
       "    }\n",
       "</style>\n",
       "<table border=\"1\" class=\"dataframe\">\n",
       "  <thead>\n",
       "    <tr style=\"text-align: right;\">\n",
       "      <th></th>\n",
       "      <th>title</th>\n",
       "      <th>comments</th>\n",
       "      <th>sentiments</th>\n",
       "    </tr>\n",
       "  </thead>\n",
       "  <tbody>\n",
       "    <tr>\n",
       "      <th>99</th>\n",
       "      <td>All Superheroes Must Die</td>\n",
       "      <td>I'll be looking forward to this</td>\n",
       "      <td>Positive</td>\n",
       "    </tr>\n",
       "    <tr>\n",
       "      <th>100</th>\n",
       "      <td>All Superheroes Must Die</td>\n",
       "      <td>wow another kickass movie\\n</td>\n",
       "      <td>Positive</td>\n",
       "    </tr>\n",
       "    <tr>\n",
       "      <th>101</th>\n",
       "      <td>All Superheroes Must Die</td>\n",
       "      <td>YAAAAAAY\\nfirst comment\\nYAAAAAY</td>\n",
       "      <td>Negative</td>\n",
       "    </tr>\n",
       "  </tbody>\n",
       "</table>\n",
       "</div>"
      ],
      "text/plain": [
       "                        title                          comments sentiments\n",
       "99   All Superheroes Must Die   I'll be looking forward to this   Positive\n",
       "100  All Superheroes Must Die       wow another kickass movie\\n   Positive\n",
       "101  All Superheroes Must Die  YAAAAAAY\\nfirst comment\\nYAAAAAY   Negative"
      ]
     },
     "execution_count": 19,
     "metadata": {},
     "output_type": "execute_result"
    }
   ],
   "source": [
    "sentiment_df[sentiment_df['title'] == 'All Superheroes Must Die']"
   ]
  },
  {
   "cell_type": "code",
   "execution_count": 58,
   "metadata": {},
   "outputs": [],
   "source": [
    "# filtered_df = sentiment_df.groupby('sentiments')['title'].apply(lambda x: x.str.contains('13 Hours: The Secret Soldiers of Benghazi').sum())\n",
    "# filtered_df"
   ]
  },
  {
   "cell_type": "code",
   "execution_count": 4,
   "metadata": {},
   "outputs": [],
   "source": [
    "grouped = sentiment_df.groupby(['title', 'sentiments']).size()\n",
    "count_df = grouped.unstack(fill_value=0)"
   ]
  },
  {
   "cell_type": "code",
   "execution_count": 5,
   "metadata": {},
   "outputs": [],
   "source": [
    "count_df.columns = ['negative', 'positive'] "
   ]
  },
  {
   "cell_type": "code",
   "execution_count": 6,
   "metadata": {},
   "outputs": [
    {
     "data": {
      "text/html": [
       "<div>\n",
       "<style scoped>\n",
       "    .dataframe tbody tr th:only-of-type {\n",
       "        vertical-align: middle;\n",
       "    }\n",
       "\n",
       "    .dataframe tbody tr th {\n",
       "        vertical-align: top;\n",
       "    }\n",
       "\n",
       "    .dataframe thead th {\n",
       "        text-align: right;\n",
       "    }\n",
       "</style>\n",
       "<table border=\"1\" class=\"dataframe\">\n",
       "  <thead>\n",
       "    <tr style=\"text-align: right;\">\n",
       "      <th></th>\n",
       "      <th>title</th>\n",
       "      <th>negative</th>\n",
       "      <th>positive</th>\n",
       "    </tr>\n",
       "  </thead>\n",
       "  <tbody>\n",
       "    <tr>\n",
       "      <th>0</th>\n",
       "      <td>#Horror</td>\n",
       "      <td>19</td>\n",
       "      <td>9</td>\n",
       "    </tr>\n",
       "    <tr>\n",
       "      <th>1</th>\n",
       "      <td>10 Days in a Madhouse</td>\n",
       "      <td>3</td>\n",
       "      <td>0</td>\n",
       "    </tr>\n",
       "    <tr>\n",
       "      <th>2</th>\n",
       "      <td>12 Strong</td>\n",
       "      <td>25</td>\n",
       "      <td>26</td>\n",
       "    </tr>\n",
       "    <tr>\n",
       "      <th>3</th>\n",
       "      <td>13 Hours: The Secret Soldiers of Benghazi</td>\n",
       "      <td>1</td>\n",
       "      <td>0</td>\n",
       "    </tr>\n",
       "    <tr>\n",
       "      <th>4</th>\n",
       "      <td>13 Sins</td>\n",
       "      <td>6</td>\n",
       "      <td>6</td>\n",
       "    </tr>\n",
       "    <tr>\n",
       "      <th>...</th>\n",
       "      <td>...</td>\n",
       "      <td>...</td>\n",
       "      <td>...</td>\n",
       "    </tr>\n",
       "    <tr>\n",
       "      <th>1713</th>\n",
       "      <td>Zootopia</td>\n",
       "      <td>4</td>\n",
       "      <td>0</td>\n",
       "    </tr>\n",
       "    <tr>\n",
       "      <th>1714</th>\n",
       "      <td>Zulu</td>\n",
       "      <td>1</td>\n",
       "      <td>0</td>\n",
       "    </tr>\n",
       "    <tr>\n",
       "      <th>1715</th>\n",
       "      <td>jackass forever</td>\n",
       "      <td>3749</td>\n",
       "      <td>3234</td>\n",
       "    </tr>\n",
       "    <tr>\n",
       "      <th>1716</th>\n",
       "      <td>xXx: Return of Xander Cage</td>\n",
       "      <td>32</td>\n",
       "      <td>14</td>\n",
       "    </tr>\n",
       "    <tr>\n",
       "      <th>1717</th>\n",
       "      <td>Épouse-moi mon pote</td>\n",
       "      <td>6</td>\n",
       "      <td>5</td>\n",
       "    </tr>\n",
       "  </tbody>\n",
       "</table>\n",
       "<p>1718 rows × 3 columns</p>\n",
       "</div>"
      ],
      "text/plain": [
       "                                          title  negative  positive\n",
       "0                                       #Horror        19         9\n",
       "1                         10 Days in a Madhouse         3         0\n",
       "2                                     12 Strong        25        26\n",
       "3     13 Hours: The Secret Soldiers of Benghazi         1         0\n",
       "4                                       13 Sins         6         6\n",
       "...                                         ...       ...       ...\n",
       "1713                                   Zootopia         4         0\n",
       "1714                                       Zulu         1         0\n",
       "1715                            jackass forever      3749      3234\n",
       "1716                 xXx: Return of Xander Cage        32        14\n",
       "1717                        Épouse-moi mon pote         6         5\n",
       "\n",
       "[1718 rows x 3 columns]"
      ]
     },
     "execution_count": 6,
     "metadata": {},
     "output_type": "execute_result"
    }
   ],
   "source": [
    "new_df = count_df.reset_index()\n",
    "new_df"
   ]
  },
  {
   "cell_type": "code",
   "execution_count": 17,
   "metadata": {},
   "outputs": [
    {
     "data": {
      "text/html": [
       "<div>\n",
       "<style scoped>\n",
       "    .dataframe tbody tr th:only-of-type {\n",
       "        vertical-align: middle;\n",
       "    }\n",
       "\n",
       "    .dataframe tbody tr th {\n",
       "        vertical-align: top;\n",
       "    }\n",
       "\n",
       "    .dataframe thead th {\n",
       "        text-align: right;\n",
       "    }\n",
       "</style>\n",
       "<table border=\"1\" class=\"dataframe\">\n",
       "  <thead>\n",
       "    <tr style=\"text-align: right;\">\n",
       "      <th></th>\n",
       "      <th>date</th>\n",
       "      <th>title</th>\n",
       "      <th>production budget</th>\n",
       "      <th>domestric budget</th>\n",
       "      <th>worldwide gross</th>\n",
       "    </tr>\n",
       "  </thead>\n",
       "  <tbody>\n",
       "    <tr>\n",
       "      <th>0</th>\n",
       "      <td>Jan 4, 2013</td>\n",
       "      <td>Texas Chainsaw 3D</td>\n",
       "      <td>$20,000,000</td>\n",
       "      <td>$34,341,945</td>\n",
       "      <td>$47,666,013</td>\n",
       "    </tr>\n",
       "    <tr>\n",
       "      <th>1</th>\n",
       "      <td>Jan 4, 2013</td>\n",
       "      <td>Promised Land</td>\n",
       "      <td>$15,000,000</td>\n",
       "      <td>$7,597,898</td>\n",
       "      <td>$12,394,562</td>\n",
       "    </tr>\n",
       "    <tr>\n",
       "      <th>2</th>\n",
       "      <td>Jan 4, 2013</td>\n",
       "      <td>All Superheroes Must Die</td>\n",
       "      <td>$20,000</td>\n",
       "      <td>$0</td>\n",
       "      <td>$0</td>\n",
       "    </tr>\n",
       "    <tr>\n",
       "      <th>3</th>\n",
       "      <td>Jan 8, 2013</td>\n",
       "      <td>Yi dai zong shi</td>\n",
       "      <td>$38,600,000</td>\n",
       "      <td>$6,594,959</td>\n",
       "      <td>$57,986,660</td>\n",
       "    </tr>\n",
       "    <tr>\n",
       "      <th>4</th>\n",
       "      <td>Jan 9, 2013</td>\n",
       "      <td>Gangster Squad</td>\n",
       "      <td>$60,000,000</td>\n",
       "      <td>$46,000,903</td>\n",
       "      <td>$104,100,903</td>\n",
       "    </tr>\n",
       "  </tbody>\n",
       "</table>\n",
       "</div>"
      ],
      "text/plain": [
       "          date                     title production budget domestric budget  \\\n",
       "0  Jan 4, 2013         Texas Chainsaw 3D       $20,000,000      $34,341,945   \n",
       "1  Jan 4, 2013             Promised Land       $15,000,000       $7,597,898   \n",
       "2  Jan 4, 2013  All Superheroes Must Die           $20,000               $0   \n",
       "3  Jan 8, 2013           Yi dai zong shi       $38,600,000       $6,594,959   \n",
       "4  Jan 9, 2013            Gangster Squad       $60,000,000      $46,000,903   \n",
       "\n",
       "  worldwide gross  \n",
       "0     $47,666,013  \n",
       "1     $12,394,562  \n",
       "2              $0  \n",
       "3     $57,986,660  \n",
       "4    $104,100,903  "
      ]
     },
     "execution_count": 17,
     "metadata": {},
     "output_type": "execute_result"
    }
   ],
   "source": [
    "movie_df = pd.read_csv('movies.csv').drop('index', axis=1)\n",
    "movie_df.head()"
   ]
  },
  {
   "cell_type": "code",
   "execution_count": 18,
   "metadata": {},
   "outputs": [
    {
     "data": {
      "text/html": [
       "<div>\n",
       "<style scoped>\n",
       "    .dataframe tbody tr th:only-of-type {\n",
       "        vertical-align: middle;\n",
       "    }\n",
       "\n",
       "    .dataframe tbody tr th {\n",
       "        vertical-align: top;\n",
       "    }\n",
       "\n",
       "    .dataframe thead th {\n",
       "        text-align: right;\n",
       "    }\n",
       "</style>\n",
       "<table border=\"1\" class=\"dataframe\">\n",
       "  <thead>\n",
       "    <tr style=\"text-align: right;\">\n",
       "      <th></th>\n",
       "      <th>date</th>\n",
       "      <th>title</th>\n",
       "      <th>production budget</th>\n",
       "      <th>domestric budget</th>\n",
       "      <th>worldwide gross</th>\n",
       "      <th>negative</th>\n",
       "      <th>positive</th>\n",
       "    </tr>\n",
       "  </thead>\n",
       "  <tbody>\n",
       "    <tr>\n",
       "      <th>0</th>\n",
       "      <td>Jan 4, 2013</td>\n",
       "      <td>Texas Chainsaw 3D</td>\n",
       "      <td>$20,000,000</td>\n",
       "      <td>$34,341,945</td>\n",
       "      <td>$47,666,013</td>\n",
       "      <td>35.0</td>\n",
       "      <td>11.0</td>\n",
       "    </tr>\n",
       "    <tr>\n",
       "      <th>1</th>\n",
       "      <td>Jan 4, 2013</td>\n",
       "      <td>Promised Land</td>\n",
       "      <td>$15,000,000</td>\n",
       "      <td>$7,597,898</td>\n",
       "      <td>$12,394,562</td>\n",
       "      <td>34.0</td>\n",
       "      <td>19.0</td>\n",
       "    </tr>\n",
       "    <tr>\n",
       "      <th>2</th>\n",
       "      <td>Jan 4, 2013</td>\n",
       "      <td>All Superheroes Must Die</td>\n",
       "      <td>$20,000</td>\n",
       "      <td>$0</td>\n",
       "      <td>$0</td>\n",
       "      <td>1.0</td>\n",
       "      <td>2.0</td>\n",
       "    </tr>\n",
       "    <tr>\n",
       "      <th>3</th>\n",
       "      <td>Jan 8, 2013</td>\n",
       "      <td>Yi dai zong shi</td>\n",
       "      <td>$38,600,000</td>\n",
       "      <td>$6,594,959</td>\n",
       "      <td>$57,986,660</td>\n",
       "      <td>0.0</td>\n",
       "      <td>0.0</td>\n",
       "    </tr>\n",
       "    <tr>\n",
       "      <th>4</th>\n",
       "      <td>Jan 9, 2013</td>\n",
       "      <td>Gangster Squad</td>\n",
       "      <td>$60,000,000</td>\n",
       "      <td>$46,000,903</td>\n",
       "      <td>$104,100,903</td>\n",
       "      <td>44.0</td>\n",
       "      <td>27.0</td>\n",
       "    </tr>\n",
       "  </tbody>\n",
       "</table>\n",
       "</div>"
      ],
      "text/plain": [
       "          date                     title production budget domestric budget  \\\n",
       "0  Jan 4, 2013         Texas Chainsaw 3D       $20,000,000      $34,341,945   \n",
       "1  Jan 4, 2013             Promised Land       $15,000,000       $7,597,898   \n",
       "2  Jan 4, 2013  All Superheroes Must Die           $20,000               $0   \n",
       "3  Jan 8, 2013           Yi dai zong shi       $38,600,000       $6,594,959   \n",
       "4  Jan 9, 2013            Gangster Squad       $60,000,000      $46,000,903   \n",
       "\n",
       "  worldwide gross  negative  positive  \n",
       "0     $47,666,013      35.0      11.0  \n",
       "1     $12,394,562      34.0      19.0  \n",
       "2              $0       1.0       2.0  \n",
       "3     $57,986,660       0.0       0.0  \n",
       "4    $104,100,903      44.0      27.0  "
      ]
     },
     "execution_count": 18,
     "metadata": {},
     "output_type": "execute_result"
    }
   ],
   "source": [
    "merged_df = pd.merge(movie_df, new_df, on='title', how='left')\n",
    "merged_df.fillna({'negative':0}, inplace=True)\n",
    "merged_df.fillna({'positive':0}, inplace=True)\n",
    "merged_df.head()"
   ]
  },
  {
   "cell_type": "code",
   "execution_count": null,
   "metadata": {},
   "outputs": [],
   "source": [
    "merged_df.to_csv('sentiments_movies.csv')"
   ]
  }
 ],
 "metadata": {
  "kernelspec": {
   "display_name": "env",
   "language": "python",
   "name": "env"
  },
  "language_info": {
   "codemirror_mode": {
    "name": "ipython",
    "version": 3
   },
   "file_extension": ".py",
   "mimetype": "text/x-python",
   "name": "python",
   "nbconvert_exporter": "python",
   "pygments_lexer": "ipython3",
   "version": "3.10.12"
  }
 },
 "nbformat": 4,
 "nbformat_minor": 2
}
